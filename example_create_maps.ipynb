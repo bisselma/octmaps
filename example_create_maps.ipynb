{
 "cells": [
  {
   "attachments": {},
   "cell_type": "markdown",
   "metadata": {},
   "source": [
    "### Sample code for generating thickness maps\n",
    "\n",
    "It is recommended to work with anaconda and on an additional environment https://docs.anaconda.com/navigator/tutorials/manage-environments/   \n",
    "\n",
    "    "
   ]
  },
  {
   "attachments": {},
   "cell_type": "markdown",
   "metadata": {},
   "source": [
    "In your new environment install the octmap-repository by the following command\n",
    "```\n",
    "%pip install git+https://github.com/bisselma/octmaps.git\n",
    "```"
   ]
  },
  {
   "attachments": {},
   "cell_type": "markdown",
   "metadata": {},
   "source": [
    "Now you should be able to import the module by \n",
    "```\n",
    "from octmaps.core.base import *\n",
    "```"
   ]
  },
  {
   "cell_type": "code",
   "execution_count": null,
   "metadata": {},
   "outputs": [],
   "source": [
    "%pip install git+https://github.com/bisselma/octmaps.git"
   ]
  },
  {
   "cell_type": "code",
   "execution_count": 1,
   "metadata": {},
   "outputs": [],
   "source": [
    "from octmaps.core.base import *"
   ]
  },
  {
   "cell_type": "code",
   "execution_count": 2,
   "metadata": {},
   "outputs": [
    {
     "data": {
      "text/plain": [
       "<octmaps.core.base.OctMaps at 0x23703fa9580>"
      ]
     },
     "execution_count": 2,
     "metadata": {},
     "output_type": "execute_result"
    }
   ],
   "source": [
    "# directory where the data are stored\n",
    "source_path = \"\"\n",
    "\n",
    "# directory where the results should be stored\n",
    "target_path = \"\"\n",
    "\n",
    "# create maps based on vol-files \n",
    "OctMaps.write_maps_from_heyex_vol(source_path, target_path, \"filename\")"
   ]
  }
 ],
 "metadata": {
  "kernelspec": {
   "display_name": "base",
   "language": "python",
   "name": "python3"
  },
  "language_info": {
   "codemirror_mode": {
    "name": "ipython",
    "version": 3
   },
   "file_extension": ".py",
   "mimetype": "text/x-python",
   "name": "python",
   "nbconvert_exporter": "python",
   "pygments_lexer": "ipython3",
   "version": "3.9.7"
  },
  "orig_nbformat": 4,
  "vscode": {
   "interpreter": {
    "hash": "978578e5f0ba03a496431ca11f8f7e3171dae01e0fdb43d8d97f7ebe1403c6de"
   }
  }
 },
 "nbformat": 4,
 "nbformat_minor": 2
}
